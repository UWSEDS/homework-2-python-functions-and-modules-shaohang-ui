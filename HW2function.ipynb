{
 "cells": [
  {
   "cell_type": "code",
   "execution_count": 5,
   "metadata": {},
   "outputs": [],
   "source": [
    "# HW 2\n",
    "#(6 points) Create the function test_create_dataframe that takes as input: \n",
    "#(a) a pandas DataFrame and (b) a list of column names. \n",
    "#The function returns True if the following conditions hold:\n",
    "#The DataFrame contains only the columns that you specified as the second argument.\n",
    "#The values in each column have the same python type\n",
    "#There are at least 10 rows in the DataFrame.\n",
    "\n",
    "import pandas as pd\n",
    "import numpy as np"
   ]
  },
  {
   "cell_type": "code",
   "execution_count": 85,
   "metadata": {},
   "outputs": [],
   "source": [
    "#import DataFrame of SalesTax\n",
    "url = 'https://data.mo.gov/api/views/vpge-tj3s/rows.csv?accessType=DOWNLOAD'\n",
    "df = pd.read_csv(url)"
   ]
  },
  {
   "cell_type": "code",
   "execution_count": 86,
   "metadata": {},
   "outputs": [
    {
     "data": {
      "text/html": [
       "<div>\n",
       "<style scoped>\n",
       "    .dataframe tbody tr th:only-of-type {\n",
       "        vertical-align: middle;\n",
       "    }\n",
       "\n",
       "    .dataframe tbody tr th {\n",
       "        vertical-align: top;\n",
       "    }\n",
       "\n",
       "    .dataframe thead th {\n",
       "        text-align: right;\n",
       "    }\n",
       "</style>\n",
       "<table border=\"1\" class=\"dataframe\">\n",
       "  <thead>\n",
       "    <tr style=\"text-align: right;\">\n",
       "      <th></th>\n",
       "      <th>County</th>\n",
       "      <th>SalesTax</th>\n",
       "      <th>Location 1</th>\n",
       "    </tr>\n",
       "  </thead>\n",
       "  <tbody>\n",
       "    <tr>\n",
       "      <th>0</th>\n",
       "      <td>Adair County</td>\n",
       "      <td>0.05600</td>\n",
       "      <td>NaN</td>\n",
       "    </tr>\n",
       "    <tr>\n",
       "      <th>1</th>\n",
       "      <td>Andrew County</td>\n",
       "      <td>0.05925</td>\n",
       "      <td>NaN</td>\n",
       "    </tr>\n",
       "    <tr>\n",
       "      <th>2</th>\n",
       "      <td>Andrew County          Andrew County Ambulance...</td>\n",
       "      <td>0.06425</td>\n",
       "      <td>NaN</td>\n",
       "    </tr>\n",
       "    <tr>\n",
       "      <th>3</th>\n",
       "      <td>Atchison County</td>\n",
       "      <td>0.06475</td>\n",
       "      <td>NaN</td>\n",
       "    </tr>\n",
       "    <tr>\n",
       "      <th>4</th>\n",
       "      <td>Audrain County</td>\n",
       "      <td>0.06350</td>\n",
       "      <td>NaN</td>\n",
       "    </tr>\n",
       "  </tbody>\n",
       "</table>\n",
       "</div>"
      ],
      "text/plain": [
       "                                              County  SalesTax Location 1\n",
       "0                                       Adair County   0.05600        NaN\n",
       "1                                      Andrew County   0.05925        NaN\n",
       "2  Andrew County          Andrew County Ambulance...   0.06425        NaN\n",
       "3                                    Atchison County   0.06475        NaN\n",
       "4                                     Audrain County   0.06350        NaN"
      ]
     },
     "execution_count": 86,
     "metadata": {},
     "output_type": "execute_result"
    }
   ],
   "source": [
    "df.head()"
   ]
  },
  {
   "cell_type": "code",
   "execution_count": 87,
   "metadata": {},
   "outputs": [],
   "source": [
    "test_column = list(df.columns.values)\n",
    "\n",
    "col_names = ['County','Incometax','Address']"
   ]
  },
  {
   "cell_type": "code",
   "execution_count": 88,
   "metadata": {},
   "outputs": [
    {
     "data": {
      "text/plain": [
       "['County', 'SalesTax', 'Location 1']"
      ]
     },
     "execution_count": 88,
     "metadata": {},
     "output_type": "execute_result"
    }
   ],
   "source": [
    "test_column # The colums will be used to test the function"
   ]
  },
  {
   "cell_type": "code",
   "execution_count": 89,
   "metadata": {},
   "outputs": [
    {
     "data": {
      "text/plain": [
       "['County', 'Incometax', 'Address']"
      ]
     },
     "execution_count": 89,
     "metadata": {},
     "output_type": "execute_result"
    }
   ],
   "source": [
    "col_names # The input columns I specify as the second argument"
   ]
  },
  {
   "cell_type": "code",
   "execution_count": 90,
   "metadata": {},
   "outputs": [
    {
     "data": {
      "text/plain": [
       "{'County'}"
      ]
     },
     "execution_count": 90,
     "metadata": {},
     "output_type": "execute_result"
    }
   ],
   "source": [
    "set(test_column) & set(col_names) #Test the set() use and determine whether there is intersection priorly"
   ]
  },
  {
   "cell_type": "code",
   "execution_count": 91,
   "metadata": {},
   "outputs": [],
   "source": [
    "def test_create_dataframe(P_dataframe,argument):\n",
    "    if set(argument) == set(list(P_dataframe.columns.values)):\n",
    "        print(\"False_Col\")\n",
    "    else:\n",
    "        print(\"True_Col\")\n",
    "        return\n",
    "    \n",
    "    if len(set(P_dataframe.dtypes))>=2:\n",
    "        print(\"False_type\")\n",
    "    else:\n",
    "        print(\"True_type\")\n",
    "        return\n",
    "    \n",
    "    if len(P_dataframe) < 10:\n",
    "        print(\"False_Row\")\n",
    "    else:\n",
    "        print(\"True_Row\") \n",
    "        return\n",
    "    \n",
    "    print('True')\n",
    "    return"
   ]
  },
  {
   "cell_type": "code",
   "execution_count": 92,
   "metadata": {},
   "outputs": [
    {
     "name": "stdout",
     "output_type": "stream",
     "text": [
      "True_Col\n"
     ]
    }
   ],
   "source": [
    "test_create_dataframe(df,col_names)"
   ]
  },
  {
   "cell_type": "code",
   "execution_count": 93,
   "metadata": {},
   "outputs": [],
   "source": [
    "# The test dataframe doesn't satisfy my function, therfore no \"True\" output, which is correct.\n",
    "# Results shows that the function works well and satisfy my expect."
   ]
  },
  {
   "cell_type": "code",
   "execution_count": null,
   "metadata": {},
   "outputs": [],
   "source": []
  }
 ],
 "metadata": {
  "kernelspec": {
   "display_name": "Python 3",
   "language": "python",
   "name": "python3"
  },
  "language_info": {
   "codemirror_mode": {
    "name": "ipython",
    "version": 3
   },
   "file_extension": ".py",
   "mimetype": "text/x-python",
   "name": "python",
   "nbconvert_exporter": "python",
   "pygments_lexer": "ipython3",
   "version": "3.7.3"
  }
 },
 "nbformat": 4,
 "nbformat_minor": 2
}
